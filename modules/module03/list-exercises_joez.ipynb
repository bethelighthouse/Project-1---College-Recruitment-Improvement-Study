{
 "cells": [
  {
   "cell_type": "markdown",
   "id": "bb73089c",
   "metadata": {},
   "source": [
    "## List Exercises"
   ]
  },
  {
   "cell_type": "markdown",
   "id": "f623d132",
   "metadata": {},
   "source": [
    "**Name:** Joe Z\n",
    "\n",
    "**Date:** 02/09/25"
   ]
  },
  {
   "cell_type": "markdown",
   "id": "d77ddaf6",
   "metadata": {},
   "source": [
    "### Exercise 1: Element Selection\n",
    "\n",
    "Given a list, \n",
    "- if the second element  is greater than the first element, and\n",
    "- if the third element is the letter 'a', and\n",
    "- the last element is of type `float`, \n",
    "- then print `This is a valid list`; \n",
    "- otherwise, print `This is NOT a valid list`\n",
    "\n",
    "Allow for lists of various sizes."
   ]
  },
  {
   "cell_type": "code",
   "execution_count": 55,
   "id": "ca31c4c6",
   "metadata": {},
   "outputs": [],
   "source": [
    "# TEST CASES - uncomment each test case, one at a time to test each case\n",
    "# These examples should print `This is a valid list`\n",
    "test_list = [1, 2, 'a', 3.3] \n",
    "# test_list = [1, 2, 'a', 5, 3.3] \n",
    "\n",
    "# These examples should print `This is NOT a valid list`\n",
    "# test_list = [2, 1, 'a', 3.3] \n",
    "# test_list = [1, 2, 'b', 5, 3.3]\n",
    "# test_list = [2, 1, 'a']\n",
    "# test_list = [1, 2, 'b', 5]"
   ]
  },
  {
   "cell_type": "code",
   "execution_count": 56,
   "id": "0e7dd0eb",
   "metadata": {},
   "outputs": [
    {
     "name": "stdout",
     "output_type": "stream",
     "text": [
      "This is a valid list\n",
      "PASSED:  [1, 2, 'a', 3.3]\n",
      "This is a valid list\n",
      "PASSED:  [1, 2, 'a', 5, 3.3]\n",
      "This is NOT a valid list\n",
      "PASSED:  [2, 1, 'a', 3.3]\n",
      "This is NOT a valid list\n",
      "PASSED:  [1, 2, 'b', 5, 3.3]\n",
      "This is NOT a valid list\n",
      "PASSED:  [2, 1, 'a']\n",
      "This is NOT a valid list\n",
      "PASSED:  [1, 2, 'b', 5]\n"
     ]
    }
   ],
   "source": [
    "# Your code should go here\n",
    "\n",
    "# LEARNING Lesson - a Python dictionary must have a immutable type as a key (makes sense)\n",
    "#                   therefore, you can not use a list as a dictionary key\n",
    "# in this test case data 'True' indicates 'a valid list'\n",
    "TEST_CASES_DICT = {\n",
    "    tuple([1, 2, 'a', 3.3]):True,\n",
    "    tuple([1, 2, 'a', 5, 3.3]):True,\n",
    "    tuple([2, 1, 'a', 3.3]):False,\n",
    "    tuple([1, 2, 'b', 5, 3.3]):False,\n",
    "    tuple([2, 1, 'a']):False,\n",
    "    tuple([1, 2, 'b', 5]):False,\n",
    "}\n",
    "\n",
    "def is_list_valid(your_list):\n",
    "    is_valid = False\n",
    "    if len(your_list) > 2 and type(your_list[-1]) == float \\\n",
    "                          and your_list[2] == 'a' \\\n",
    "                          and your_list[1] > your_list[0]:\n",
    "        print(\"This is a valid list\")\n",
    "        is_valid = True\n",
    "    else:\n",
    "        print(\"This is NOT a valid list\")\n",
    "    \n",
    "    return is_valid\n",
    "\n",
    "def test_is_list_valid():\n",
    "    \"\"\"\n",
    "    Run all the test cases.\n",
    "    \"\"\"\n",
    "    for list_data,expected_results in TEST_CASES_DICT.items():\n",
    "        if is_list_valid(list(list_data)) == expected_results:\n",
    "            print('PASSED: ',list(list_data))\n",
    "        else:\n",
    "            print('FAILED: ',list(list_data))\n",
    "            \n",
    "test_is_list_valid()  \n"
   ]
  },
  {
   "cell_type": "markdown",
   "id": "d6a27277",
   "metadata": {},
   "source": [
    "### Exercise 2: Slicing and Range\n",
    "\n",
    "Create a list that contains the values from 0 to 100 (inclusive) using `range`.  Then use list `slicing` to extract:\n",
    "- Every fifth element (ie. `[0, 5, 10, ..., 100]`)\n",
    "- Every fifth element in reverse (ie. `[100, 95, 90, ..., 0]`)"
   ]
  },
  {
   "cell_type": "code",
   "execution_count": 58,
   "id": "e6796b36",
   "metadata": {},
   "outputs": [
    {
     "name": "stdout",
     "output_type": "stream",
     "text": [
      "[0, 5, 10, 15, 20, 25, 30, 35, 40, 45, 50, 55, 60, 65, 70, 75, 80, 85, 90, 95, 100]\n",
      "[100, 95, 90, 85, 80, 75, 70, 65, 60, 55, 50, 45, 40, 35, 30, 25, 20, 15, 10, 5, 0]\n"
     ]
    }
   ],
   "source": [
    "### Your code should go here\n",
    "z2o =[ x for x in range(0,101)]\n",
    "\n",
    "every_fifth_element = z2o[:101:5]\n",
    "print(every_fifth_element)\n",
    "\n",
    "every_fifth_reverse = z2o[-1:-102:-5]  # this was tricky\n",
    "print(every_fifth_reverse)"
   ]
  },
  {
   "cell_type": "markdown",
   "id": "6a4dbb77",
   "metadata": {},
   "source": [
    "### Exercise 3: Functions and Lists\n",
    "\n",
    "Create a function that receives a list and returns a (possibly shorter) list containing only the unique values in sorted order.  Test your function with a list of numbers and a list of strings.\n",
    "    "
   ]
  },
  {
   "cell_type": "code",
   "execution_count": 60,
   "id": "b98e3596",
   "metadata": {},
   "outputs": [
    {
     "name": "stdout",
     "output_type": "stream",
     "text": [
      "[10, 20, 30, 40]\n",
      "['aaa', 'bbb', 'cccc']\n",
      "[1, 2, 5, 6, 7]\n",
      "['Create', 'Test', 'a', 'and', 'containing', 'function', 'in', 'list', 'numbers', 'of', 'only', 'order.', 'possibly', 'receives', 'returns', 'shorter', 'sorted', 'strings.', 'strings.Create', 'that', 'the', 'unique', 'values', 'with', 'your']\n"
     ]
    }
   ],
   "source": [
    "def possibly_shorter(mylist):\n",
    "   return sorted(set(mylist))\n",
    "\n",
    "print(possibly_shorter([10,20,30,40])) \n",
    "\n",
    "print(['aaa','bbb','cccc'])      \n",
    "\n",
    "print(possibly_shorter([1,1,1,5,5,5,7,7,7,6,2]*20))\n",
    "\n",
    "ex3_words = (\"\"\"Create a function that receives a list and returns a \n",
    "possibly shorter list containing only the unique values in sorted order. \n",
    "Test your function with a list of numbers and a list of strings.\"\"\" *10).split()\n",
    "\n",
    "print(possibly_shorter(ex3_words))\n",
    "\n",
    "\n",
    "# side note/research: to do a case insensitive sort for \"a pure list of strings\". you could use the \"key\" parameter \n",
    "# on the sorted function:\n",
    "\n",
    "# sorted(mylist, key=str.casefold)\n",
    "\n",
    "# reference: https://stackoverflow.com/questions/10269701/case-insensitive-list-sorting-without-lowercasing-the-result\n",
    "\n",
    "# however, incorperating that code is beyond the scope of the question.\n"
   ]
  },
  {
   "cell_type": "markdown",
   "id": "ffcfdb6c",
   "metadata": {},
   "source": [
    "### Exercise 4: List Functions\n",
    "\n",
    "Create a function is_ordered that receives a **sequence** and returns True if the elements are in sorted order.  Test your function with sorted and unsorted lists, tuples and strings."
   ]
  },
  {
   "cell_type": "code",
   "execution_count": 62,
   "id": "f3291375",
   "metadata": {},
   "outputs": [],
   "source": [
    "def is_ordered(my_sequence):\n",
    "    is_sorted = False\n",
    "    if sorted(my_sequence) == list(my_sequence):\n",
    "        is_sorted = True\n",
    "\n",
    "    return is_sorted\n",
    "        \n",
    "    \n",
    "\n",
    "\n"
   ]
  },
  {
   "cell_type": "code",
   "execution_count": 63,
   "id": "298d59ef",
   "metadata": {},
   "outputs": [
    {
     "name": "stdout",
     "output_type": "stream",
     "text": [
      "PASSED: [1, 2, 3]\n",
      "PASSED: (1, 2, 3)\n",
      "PASSED: abc\n",
      "PASSED: [1, 5, 5, 2]\n",
      "PASSED: dab\n",
      "PASSED: (5, 4, 7)\n"
     ]
    }
   ],
   "source": [
    "# TEST CASES - uncomment each one, one at a time to test each case\n",
    "# Test cases returning FALSE\n",
    "# is_ordered([1, 5, 5, 2])\n",
    "# is_ordered('dab')\n",
    "# is_ordered((5,4,7))\n",
    "\n",
    "# Test cases returning TRUE\n",
    "# is_ordered([1,2,3])\n",
    "# is_ordered((1,2,3))\n",
    "# is_ordered('abc')\n",
    "\n",
    "\n",
    "def test_in_ordered():\n",
    "    \"\"\"\n",
    "      runs the provided test cases(see above)\n",
    "    \"\"\"\n",
    "    will_pass = [\n",
    "        [1,2,3],\n",
    "        (1,2,3),\n",
    "        'abc'\n",
    "    ]\n",
    "\n",
    "    for test_data in will_pass:\n",
    "        if(is_ordered(test_data)):\n",
    "            print(\"PASSED:\",test_data)\n",
    "        else:\n",
    "            print(\"FAILED:\", test_data)\n",
    "\n",
    "    will_fail = [\n",
    "        [1, 5, 5, 2],\n",
    "        'dab',\n",
    "        (5,4,7)\n",
    "    ]\n",
    "\n",
    "    for test_data in will_fail:\n",
    "        if(not is_ordered(test_data)):\n",
    "            print(\"PASSED:\",test_data)\n",
    "        else:\n",
    "            print(\"FAILED:\", test_data)\n",
    "\n",
    "test_in_ordered()"
   ]
  },
  {
   "cell_type": "markdown",
   "id": "19d9ca23",
   "metadata": {},
   "source": [
    "### Exercise 5: Weather Statistics\n",
    "\n",
    "The following two datasets has been downloaded from the National Oceanic and Atmospheric Administration (NOAA).  It represents the amount of rain that was measured by the Mount Olive weather station in 2022 and 2024 for the first 24 days of January. The first rain amount in the list is from Jan 1st, the second is January 2nd, ... and the last value in the list is from January 24th. \n",
    "\n",
    "Using the Statistics package, display the following statistics for the following numeric data features, for each dataset: minimum, maximum, range, mean, mode, variance and standard deviation. Also compute the total rainfall for each year's data.\n",
    "\n",
    "Then, answer the following questions programmatically (using loops/if statements, as needed):\n",
    "1. Which year had the most total rain?\n",
    "2. Which year had the most rain on average?\n",
    "3. Which year had the rainiest day?\n",
    "4. Which date had the most rain?\n"
   ]
  },
  {
   "cell_type": "code",
   "execution_count": 65,
   "id": "ddc44e4e",
   "metadata": {},
   "outputs": [],
   "source": [
    "rainJan22=[0.09,0.46,0.02,0,0,0,0.2,0,0,0.05,0,0,0,0,0,0,0.73,0,0,0.21,0,0,0,0.02]\n",
    "rainJan24=[0.01,0,0,0,0,0.28,0.91,0,0.87,2.41,0,0,0.87,0,0,0.33,0,0,0.12,0.01,0,0,0.04,0.06]"
   ]
  },
  {
   "cell_type": "code",
   "execution_count": 66,
   "id": "f1f3262a",
   "metadata": {},
   "outputs": [
    {
     "name": "stdout",
     "output_type": "stream",
     "text": [
      "        stats_type  in_2022  in_2024\n",
      "           minimum 0.000000 0.000000\n",
      "           maximum 0.730000 2.410000\n",
      "             range 0.730000 2.410000\n",
      "              mean 0.074167 0.246250\n",
      "              mode 0.000000 0.000000\n",
      "          variance 0.030782 0.300077\n",
      "standard deviation 0.175448 0.547793\n",
      "            totals 0.730000 2.410000 \n",
      "\n",
      "\n",
      "January 2024 had more rain\n",
      "January 2024 had the most rain on average\n",
      "January 2024 had the rainiest day\n",
      "The max rain for January 2022 was on the 17th\n",
      "The max rain for January 2024 was on the 10th\n"
     ]
    }
   ],
   "source": [
    "### Your code should go here\n",
    "import statistics as stats\n",
    "import pandas as pd\n",
    "\n",
    "\n",
    "# display the stats in as a pandas dataframe, just to format it better.\n",
    "stats_header = ['stats_type','in_2022','in_2024']\n",
    "stats_data = [\n",
    "   ['minimum',min(rainJan22),min(rainJan24)],\n",
    "   ['maximum',max(rainJan22),max(rainJan24)],\n",
    "   ['range',max(rainJan22)-min(rainJan22),max(rainJan24)-min(rainJan24)],\n",
    "   ['mean',stats.mean(rainJan22),stats.mean(rainJan24)],\n",
    "   ['mode',stats.mode(rainJan22),stats.mode(rainJan24)],\n",
    "   ['variance',stats.variance(rainJan22),stats.variance(rainJan24)],\n",
    "   ['standard deviation',stats.stdev(rainJan22),stats.stdev(rainJan24)],\n",
    "   ['totals',max(rainJan22),max(rainJan24)]\n",
    "]\n",
    "df_stats_info  = pd.DataFrame(stats_data,columns=stats_header)\n",
    "print(df_stats_info.to_string(index=False),'\\n\\n')\n",
    "\n",
    "# lets answer the questions about the data\n",
    "\n",
    "# Which year had the most total rain?\n",
    "if(sum(rainJan22) > sum(rainJan24)):\n",
    "    print(\"January 2022 had more rain\")\n",
    "else:\n",
    "    print(\"January 2024 had more rain\")\n",
    "\n",
    "# Which year had the most rain on average?    \n",
    "if(stats.mean(rainJan22) > stats.mean(rainJan24)):\n",
    "    print(\"January 2022 had the most rain on average\")\n",
    "else:\n",
    "    print(\"January 2024 had the most rain on average\")\n",
    "\n",
    "# Which year had the rainiest day?\n",
    "if(max(rainJan22) > max(rainJan24)):\n",
    "    print(\"January 2022 had the rainiest day\")\n",
    "else:\n",
    "    print(\"January 2024 had the rainiest day\")\n",
    "\n",
    "# Which date had the most rain?\n",
    "max_rain_day = rainJan22.index(max(rainJan22)) +1  \n",
    "print(f'The max rain for January 2022 was on the {max_rain_day:>2}th')\n",
    "\n",
    "max_rain_day = rainJan24.index(max(rainJan24)) +1  \n",
    "print(f'The max rain for January 2024 was on the {max_rain_day:>2}th')\n"
   ]
  },
  {
   "cell_type": "code",
   "execution_count": 67,
   "id": "c7753873-7770-4e12-8dab-4a40b5ee26ed",
   "metadata": {},
   "outputs": [
    {
     "name": "stdout",
     "output_type": "stream",
     "text": [
      "\u001b[91m This text will be red \u001b[0m\n",
      "\u001b[42m This text will be black on a green background \u001b[0m\n"
     ]
    }
   ],
   "source": [
    "# side note/research: a question came to mind \"Can I display print messages in different colors?\"\n",
    "# the answer is yes, in-line by using old \"Terminal\" ANSI esape codes. There is also a package you \n",
    "# can install to achive the same result - see links below\n",
    "\n",
    "# https://stackoverflow.com/questions/16816013/is-it-possible-to-print-using-different-colors-in-ipythons-notebook\n",
    "# https://en.wikipedia.org/wiki/ANSI_escape_code\n",
    "print(\"\\033[91m This text will be red \\033[0m\")\n",
    "print(\"\\033[42m This text will be black on a green background \\033[0m\")\n"
   ]
  }
 ],
 "metadata": {
  "kernelspec": {
   "display_name": "Python [conda env:base] *",
   "language": "python",
   "name": "conda-base-py"
  },
  "language_info": {
   "codemirror_mode": {
    "name": "ipython",
    "version": 3
   },
   "file_extension": ".py",
   "mimetype": "text/x-python",
   "name": "python",
   "nbconvert_exporter": "python",
   "pygments_lexer": "ipython3",
   "version": "3.12.7"
  }
 },
 "nbformat": 4,
 "nbformat_minor": 5
}
