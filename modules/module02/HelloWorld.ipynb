{
 "cells": [
  {
   "cell_type": "markdown",
   "id": "b52f4c4d",
   "metadata": {
    "ExecuteTime": {
     "end_time": "2025-02-03T23:50:11.828400Z",
     "start_time": "2025-02-03T23:50:11.812408Z"
    },
    "collapsed": true
   },
   "source": [
    "#### JZ\n",
    "#### Module 02 - Upload Assignment: Course Software Installation\n",
    "#### 02/03/25\n",
    "#### Hello World\n",
    "#### This program prints hello world"
   ]
  },
  {
   "cell_type": "code",
   "execution_count": 1,
   "id": "a94633556b182f98",
   "metadata": {
    "ExecuteTime": {
     "end_time": "2025-02-03T23:50:12.083493Z",
     "start_time": "2025-02-03T23:50:12.018830Z"
    }
   },
   "outputs": [
    {
     "name": "stdout",
     "output_type": "stream",
     "text": [
      "Hello World\n"
     ]
    }
   ],
   "source": [
    "print(\"Hello World\")"
   ]
  }
 ],
 "metadata": {
  "kernelspec": {
   "display_name": "Python 3 (ipykernel)",
   "language": "python",
   "name": "python3"
  },
  "language_info": {
   "codemirror_mode": {
    "name": "ipython",
    "version": 3
   },
   "file_extension": ".py",
   "mimetype": "text/x-python",
   "name": "python",
   "nbconvert_exporter": "python",
   "pygments_lexer": "ipython3",
   "version": "3.12.7"
  }
 },
 "nbformat": 4,
 "nbformat_minor": 5
}
